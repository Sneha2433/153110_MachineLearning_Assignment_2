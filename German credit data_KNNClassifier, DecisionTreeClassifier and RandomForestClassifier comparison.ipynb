{
 "cells": [
  {
   "cell_type": "code",
   "execution_count": 1,
   "id": "d64b9636",
   "metadata": {},
   "outputs": [],
   "source": [
    "#importing the libraries\n",
    "import numpy as np\n",
    "import matplotlib.pyplot as plt\n",
    "import pandas as pd\n",
    "import seaborn as sns"
   ]
  },
  {
   "cell_type": "code",
   "execution_count": 2,
   "id": "a023f2cb",
   "metadata": {},
   "outputs": [
    {
     "data": {
      "text/html": [
       "<div>\n",
       "<style scoped>\n",
       "    .dataframe tbody tr th:only-of-type {\n",
       "        vertical-align: middle;\n",
       "    }\n",
       "\n",
       "    .dataframe tbody tr th {\n",
       "        vertical-align: top;\n",
       "    }\n",
       "\n",
       "    .dataframe thead th {\n",
       "        text-align: right;\n",
       "    }\n",
       "</style>\n",
       "<table border=\"1\" class=\"dataframe\">\n",
       "  <thead>\n",
       "    <tr style=\"text-align: right;\">\n",
       "      <th></th>\n",
       "      <th>Unnamed: 0</th>\n",
       "      <th>Age</th>\n",
       "      <th>Sex</th>\n",
       "      <th>Job</th>\n",
       "      <th>Housing</th>\n",
       "      <th>Saving accounts</th>\n",
       "      <th>Checking account</th>\n",
       "      <th>Credit amount</th>\n",
       "      <th>Duration</th>\n",
       "      <th>Purpose</th>\n",
       "      <th>Risk</th>\n",
       "    </tr>\n",
       "  </thead>\n",
       "  <tbody>\n",
       "    <tr>\n",
       "      <th>0</th>\n",
       "      <td>0</td>\n",
       "      <td>67</td>\n",
       "      <td>male</td>\n",
       "      <td>2</td>\n",
       "      <td>own</td>\n",
       "      <td>NaN</td>\n",
       "      <td>little</td>\n",
       "      <td>1169</td>\n",
       "      <td>6</td>\n",
       "      <td>radio/TV</td>\n",
       "      <td>good</td>\n",
       "    </tr>\n",
       "    <tr>\n",
       "      <th>1</th>\n",
       "      <td>1</td>\n",
       "      <td>22</td>\n",
       "      <td>female</td>\n",
       "      <td>2</td>\n",
       "      <td>own</td>\n",
       "      <td>little</td>\n",
       "      <td>moderate</td>\n",
       "      <td>5951</td>\n",
       "      <td>48</td>\n",
       "      <td>radio/TV</td>\n",
       "      <td>bad</td>\n",
       "    </tr>\n",
       "    <tr>\n",
       "      <th>2</th>\n",
       "      <td>2</td>\n",
       "      <td>49</td>\n",
       "      <td>male</td>\n",
       "      <td>1</td>\n",
       "      <td>own</td>\n",
       "      <td>little</td>\n",
       "      <td>NaN</td>\n",
       "      <td>2096</td>\n",
       "      <td>12</td>\n",
       "      <td>education</td>\n",
       "      <td>good</td>\n",
       "    </tr>\n",
       "    <tr>\n",
       "      <th>3</th>\n",
       "      <td>3</td>\n",
       "      <td>45</td>\n",
       "      <td>male</td>\n",
       "      <td>2</td>\n",
       "      <td>free</td>\n",
       "      <td>little</td>\n",
       "      <td>little</td>\n",
       "      <td>7882</td>\n",
       "      <td>42</td>\n",
       "      <td>furniture/equipment</td>\n",
       "      <td>good</td>\n",
       "    </tr>\n",
       "    <tr>\n",
       "      <th>4</th>\n",
       "      <td>4</td>\n",
       "      <td>53</td>\n",
       "      <td>male</td>\n",
       "      <td>2</td>\n",
       "      <td>free</td>\n",
       "      <td>little</td>\n",
       "      <td>little</td>\n",
       "      <td>4870</td>\n",
       "      <td>24</td>\n",
       "      <td>car</td>\n",
       "      <td>bad</td>\n",
       "    </tr>\n",
       "    <tr>\n",
       "      <th>5</th>\n",
       "      <td>5</td>\n",
       "      <td>35</td>\n",
       "      <td>male</td>\n",
       "      <td>1</td>\n",
       "      <td>free</td>\n",
       "      <td>NaN</td>\n",
       "      <td>NaN</td>\n",
       "      <td>9055</td>\n",
       "      <td>36</td>\n",
       "      <td>education</td>\n",
       "      <td>good</td>\n",
       "    </tr>\n",
       "    <tr>\n",
       "      <th>6</th>\n",
       "      <td>6</td>\n",
       "      <td>53</td>\n",
       "      <td>male</td>\n",
       "      <td>2</td>\n",
       "      <td>own</td>\n",
       "      <td>quite rich</td>\n",
       "      <td>NaN</td>\n",
       "      <td>2835</td>\n",
       "      <td>24</td>\n",
       "      <td>furniture/equipment</td>\n",
       "      <td>good</td>\n",
       "    </tr>\n",
       "    <tr>\n",
       "      <th>7</th>\n",
       "      <td>7</td>\n",
       "      <td>35</td>\n",
       "      <td>male</td>\n",
       "      <td>3</td>\n",
       "      <td>rent</td>\n",
       "      <td>little</td>\n",
       "      <td>moderate</td>\n",
       "      <td>6948</td>\n",
       "      <td>36</td>\n",
       "      <td>car</td>\n",
       "      <td>good</td>\n",
       "    </tr>\n",
       "  </tbody>\n",
       "</table>\n",
       "</div>"
      ],
      "text/plain": [
       "   Unnamed: 0  Age     Sex  Job Housing Saving accounts Checking account  \\\n",
       "0           0   67    male    2     own             NaN           little   \n",
       "1           1   22  female    2     own          little         moderate   \n",
       "2           2   49    male    1     own          little              NaN   \n",
       "3           3   45    male    2    free          little           little   \n",
       "4           4   53    male    2    free          little           little   \n",
       "5           5   35    male    1    free             NaN              NaN   \n",
       "6           6   53    male    2     own      quite rich              NaN   \n",
       "7           7   35    male    3    rent          little         moderate   \n",
       "\n",
       "   Credit amount  Duration              Purpose  Risk  \n",
       "0           1169         6             radio/TV  good  \n",
       "1           5951        48             radio/TV   bad  \n",
       "2           2096        12            education  good  \n",
       "3           7882        42  furniture/equipment  good  \n",
       "4           4870        24                  car   bad  \n",
       "5           9055        36            education  good  \n",
       "6           2835        24  furniture/equipment  good  \n",
       "7           6948        36                  car  good  "
      ]
     },
     "execution_count": 2,
     "metadata": {},
     "output_type": "execute_result"
    }
   ],
   "source": [
    "#importing the dataset\n",
    "dataset = pd.read_csv(r'C:\\Users\\User\\Downloads\\german_credit_data.csv')\n",
    "\n",
    "dataset.head(8)"
   ]
  },
  {
   "cell_type": "markdown",
   "id": "a97ccd59",
   "metadata": {},
   "source": [
    "### Explore the Data"
   ]
  },
  {
   "cell_type": "code",
   "execution_count": 3,
   "id": "9188a87d",
   "metadata": {},
   "outputs": [],
   "source": [
    "# Making a copy of the original data to analyze\n",
    "df = dataset.copy()"
   ]
  },
  {
   "cell_type": "code",
   "execution_count": 4,
   "id": "7355cfd7",
   "metadata": {},
   "outputs": [
    {
     "data": {
      "text/html": [
       "<div>\n",
       "<style scoped>\n",
       "    .dataframe tbody tr th:only-of-type {\n",
       "        vertical-align: middle;\n",
       "    }\n",
       "\n",
       "    .dataframe tbody tr th {\n",
       "        vertical-align: top;\n",
       "    }\n",
       "\n",
       "    .dataframe thead th {\n",
       "        text-align: right;\n",
       "    }\n",
       "</style>\n",
       "<table border=\"1\" class=\"dataframe\">\n",
       "  <thead>\n",
       "    <tr style=\"text-align: right;\">\n",
       "      <th></th>\n",
       "      <th>Unnamed: 0</th>\n",
       "      <th>Age</th>\n",
       "      <th>Sex</th>\n",
       "      <th>Job</th>\n",
       "      <th>Housing</th>\n",
       "      <th>Saving accounts</th>\n",
       "      <th>Checking account</th>\n",
       "      <th>Credit amount</th>\n",
       "      <th>Duration</th>\n",
       "      <th>Purpose</th>\n",
       "      <th>Risk</th>\n",
       "    </tr>\n",
       "  </thead>\n",
       "  <tbody>\n",
       "    <tr>\n",
       "      <th>0</th>\n",
       "      <td>0</td>\n",
       "      <td>67</td>\n",
       "      <td>male</td>\n",
       "      <td>2</td>\n",
       "      <td>own</td>\n",
       "      <td>NaN</td>\n",
       "      <td>little</td>\n",
       "      <td>1169</td>\n",
       "      <td>6</td>\n",
       "      <td>radio/TV</td>\n",
       "      <td>good</td>\n",
       "    </tr>\n",
       "    <tr>\n",
       "      <th>1</th>\n",
       "      <td>1</td>\n",
       "      <td>22</td>\n",
       "      <td>female</td>\n",
       "      <td>2</td>\n",
       "      <td>own</td>\n",
       "      <td>little</td>\n",
       "      <td>moderate</td>\n",
       "      <td>5951</td>\n",
       "      <td>48</td>\n",
       "      <td>radio/TV</td>\n",
       "      <td>bad</td>\n",
       "    </tr>\n",
       "    <tr>\n",
       "      <th>2</th>\n",
       "      <td>2</td>\n",
       "      <td>49</td>\n",
       "      <td>male</td>\n",
       "      <td>1</td>\n",
       "      <td>own</td>\n",
       "      <td>little</td>\n",
       "      <td>NaN</td>\n",
       "      <td>2096</td>\n",
       "      <td>12</td>\n",
       "      <td>education</td>\n",
       "      <td>good</td>\n",
       "    </tr>\n",
       "    <tr>\n",
       "      <th>3</th>\n",
       "      <td>3</td>\n",
       "      <td>45</td>\n",
       "      <td>male</td>\n",
       "      <td>2</td>\n",
       "      <td>free</td>\n",
       "      <td>little</td>\n",
       "      <td>little</td>\n",
       "      <td>7882</td>\n",
       "      <td>42</td>\n",
       "      <td>furniture/equipment</td>\n",
       "      <td>good</td>\n",
       "    </tr>\n",
       "    <tr>\n",
       "      <th>4</th>\n",
       "      <td>4</td>\n",
       "      <td>53</td>\n",
       "      <td>male</td>\n",
       "      <td>2</td>\n",
       "      <td>free</td>\n",
       "      <td>little</td>\n",
       "      <td>little</td>\n",
       "      <td>4870</td>\n",
       "      <td>24</td>\n",
       "      <td>car</td>\n",
       "      <td>bad</td>\n",
       "    </tr>\n",
       "  </tbody>\n",
       "</table>\n",
       "</div>"
      ],
      "text/plain": [
       "   Unnamed: 0  Age     Sex  Job Housing Saving accounts Checking account  \\\n",
       "0           0   67    male    2     own             NaN           little   \n",
       "1           1   22  female    2     own          little         moderate   \n",
       "2           2   49    male    1     own          little              NaN   \n",
       "3           3   45    male    2    free          little           little   \n",
       "4           4   53    male    2    free          little           little   \n",
       "\n",
       "   Credit amount  Duration              Purpose  Risk  \n",
       "0           1169         6             radio/TV  good  \n",
       "1           5951        48             radio/TV   bad  \n",
       "2           2096        12            education  good  \n",
       "3           7882        42  furniture/equipment  good  \n",
       "4           4870        24                  car   bad  "
      ]
     },
     "execution_count": 4,
     "metadata": {},
     "output_type": "execute_result"
    }
   ],
   "source": [
    "df.head()"
   ]
  },
  {
   "cell_type": "code",
   "execution_count": 5,
   "id": "8a7790dc",
   "metadata": {},
   "outputs": [
    {
     "name": "stdout",
     "output_type": "stream",
     "text": [
      "<class 'pandas.core.frame.DataFrame'>\n",
      "RangeIndex: 1000 entries, 0 to 999\n",
      "Data columns (total 11 columns):\n",
      " #   Column            Non-Null Count  Dtype \n",
      "---  ------            --------------  ----- \n",
      " 0   Unnamed: 0        1000 non-null   int64 \n",
      " 1   Age               1000 non-null   int64 \n",
      " 2   Sex               1000 non-null   object\n",
      " 3   Job               1000 non-null   int64 \n",
      " 4   Housing           1000 non-null   object\n",
      " 5   Saving accounts   817 non-null    object\n",
      " 6   Checking account  606 non-null    object\n",
      " 7   Credit amount     1000 non-null   int64 \n",
      " 8   Duration          1000 non-null   int64 \n",
      " 9   Purpose           1000 non-null   object\n",
      " 10  Risk              1000 non-null   object\n",
      "dtypes: int64(5), object(6)\n",
      "memory usage: 86.1+ KB\n"
     ]
    }
   ],
   "source": [
    "df.info()"
   ]
  },
  {
   "cell_type": "code",
   "execution_count": 6,
   "id": "3fa2250e",
   "metadata": {},
   "outputs": [
    {
     "data": {
      "text/html": [
       "<div>\n",
       "<style scoped>\n",
       "    .dataframe tbody tr th:only-of-type {\n",
       "        vertical-align: middle;\n",
       "    }\n",
       "\n",
       "    .dataframe tbody tr th {\n",
       "        vertical-align: top;\n",
       "    }\n",
       "\n",
       "    .dataframe thead th {\n",
       "        text-align: right;\n",
       "    }\n",
       "</style>\n",
       "<table border=\"1\" class=\"dataframe\">\n",
       "  <thead>\n",
       "    <tr style=\"text-align: right;\">\n",
       "      <th></th>\n",
       "      <th>Unnamed: 0</th>\n",
       "      <th>Age</th>\n",
       "      <th>Job</th>\n",
       "      <th>Credit amount</th>\n",
       "      <th>Duration</th>\n",
       "    </tr>\n",
       "  </thead>\n",
       "  <tbody>\n",
       "    <tr>\n",
       "      <th>count</th>\n",
       "      <td>1000.000000</td>\n",
       "      <td>1000.000000</td>\n",
       "      <td>1000.000000</td>\n",
       "      <td>1000.000000</td>\n",
       "      <td>1000.000000</td>\n",
       "    </tr>\n",
       "    <tr>\n",
       "      <th>mean</th>\n",
       "      <td>499.500000</td>\n",
       "      <td>35.546000</td>\n",
       "      <td>1.904000</td>\n",
       "      <td>3271.258000</td>\n",
       "      <td>20.903000</td>\n",
       "    </tr>\n",
       "    <tr>\n",
       "      <th>std</th>\n",
       "      <td>288.819436</td>\n",
       "      <td>11.375469</td>\n",
       "      <td>0.653614</td>\n",
       "      <td>2822.736876</td>\n",
       "      <td>12.058814</td>\n",
       "    </tr>\n",
       "    <tr>\n",
       "      <th>min</th>\n",
       "      <td>0.000000</td>\n",
       "      <td>19.000000</td>\n",
       "      <td>0.000000</td>\n",
       "      <td>250.000000</td>\n",
       "      <td>4.000000</td>\n",
       "    </tr>\n",
       "    <tr>\n",
       "      <th>25%</th>\n",
       "      <td>249.750000</td>\n",
       "      <td>27.000000</td>\n",
       "      <td>2.000000</td>\n",
       "      <td>1365.500000</td>\n",
       "      <td>12.000000</td>\n",
       "    </tr>\n",
       "    <tr>\n",
       "      <th>50%</th>\n",
       "      <td>499.500000</td>\n",
       "      <td>33.000000</td>\n",
       "      <td>2.000000</td>\n",
       "      <td>2319.500000</td>\n",
       "      <td>18.000000</td>\n",
       "    </tr>\n",
       "    <tr>\n",
       "      <th>75%</th>\n",
       "      <td>749.250000</td>\n",
       "      <td>42.000000</td>\n",
       "      <td>2.000000</td>\n",
       "      <td>3972.250000</td>\n",
       "      <td>24.000000</td>\n",
       "    </tr>\n",
       "    <tr>\n",
       "      <th>max</th>\n",
       "      <td>999.000000</td>\n",
       "      <td>75.000000</td>\n",
       "      <td>3.000000</td>\n",
       "      <td>18424.000000</td>\n",
       "      <td>72.000000</td>\n",
       "    </tr>\n",
       "  </tbody>\n",
       "</table>\n",
       "</div>"
      ],
      "text/plain": [
       "        Unnamed: 0          Age          Job  Credit amount     Duration\n",
       "count  1000.000000  1000.000000  1000.000000    1000.000000  1000.000000\n",
       "mean    499.500000    35.546000     1.904000    3271.258000    20.903000\n",
       "std     288.819436    11.375469     0.653614    2822.736876    12.058814\n",
       "min       0.000000    19.000000     0.000000     250.000000     4.000000\n",
       "25%     249.750000    27.000000     2.000000    1365.500000    12.000000\n",
       "50%     499.500000    33.000000     2.000000    2319.500000    18.000000\n",
       "75%     749.250000    42.000000     2.000000    3972.250000    24.000000\n",
       "max     999.000000    75.000000     3.000000   18424.000000    72.000000"
      ]
     },
     "execution_count": 6,
     "metadata": {},
     "output_type": "execute_result"
    }
   ],
   "source": [
    "df.describe()"
   ]
  },
  {
   "cell_type": "markdown",
   "id": "e807f19b",
   "metadata": {},
   "source": [
    "#### Observations"
   ]
  },
  {
   "cell_type": "markdown",
   "id": "fcb1dbda",
   "metadata": {},
   "source": [
    "1. 1000 data entries (X,y)\n",
    "2. 10 columns\n",
    "3. Categorical: Sex, Housing, Saving Accounts, Checking Account, Purpose, Risk\n",
    "4. Numerical : Age, Job, Credit Amount, Duration\n",
    "5. Target Value: Risk\n",
    "6. Columns with Null Values: Saving Accounts, Checking Account\n",
    "7. Applicants have at most 3 jobs\n",
    "8. Duration is between 4 to 72 months"
   ]
  },
  {
   "cell_type": "code",
   "execution_count": 7,
   "id": "7ba62aa9",
   "metadata": {},
   "outputs": [],
   "source": [
    "df_num = df[['Age','Job','Credit amount','Duration']]\n",
    "df_cat = df[['Sex','Housing','Saving accounts','Checking account','Purpose']]"
   ]
  },
  {
   "cell_type": "markdown",
   "id": "e6df24d3",
   "metadata": {},
   "source": [
    "#### The distribution of Risk among Numerical Variables"
   ]
  },
  {
   "cell_type": "code",
   "execution_count": 8,
   "id": "85ed4ea8",
   "metadata": {},
   "outputs": [
    {
     "data": {
      "text/html": [
       "<div>\n",
       "<style scoped>\n",
       "    .dataframe tbody tr th:only-of-type {\n",
       "        vertical-align: middle;\n",
       "    }\n",
       "\n",
       "    .dataframe tbody tr th {\n",
       "        vertical-align: top;\n",
       "    }\n",
       "\n",
       "    .dataframe thead th {\n",
       "        text-align: right;\n",
       "    }\n",
       "</style>\n",
       "<table border=\"1\" class=\"dataframe\">\n",
       "  <thead>\n",
       "    <tr style=\"text-align: right;\">\n",
       "      <th></th>\n",
       "      <th>Age</th>\n",
       "      <th>Credit amount</th>\n",
       "      <th>Duration</th>\n",
       "      <th>Job</th>\n",
       "    </tr>\n",
       "    <tr>\n",
       "      <th>Risk</th>\n",
       "      <th></th>\n",
       "      <th></th>\n",
       "      <th></th>\n",
       "      <th></th>\n",
       "    </tr>\n",
       "  </thead>\n",
       "  <tbody>\n",
       "    <tr>\n",
       "      <th>bad</th>\n",
       "      <td>33.963333</td>\n",
       "      <td>3938.126667</td>\n",
       "      <td>24.860000</td>\n",
       "      <td>1.936667</td>\n",
       "    </tr>\n",
       "    <tr>\n",
       "      <th>good</th>\n",
       "      <td>36.224286</td>\n",
       "      <td>2985.457143</td>\n",
       "      <td>19.207143</td>\n",
       "      <td>1.890000</td>\n",
       "    </tr>\n",
       "  </tbody>\n",
       "</table>\n",
       "</div>"
      ],
      "text/plain": [
       "            Age  Credit amount   Duration       Job\n",
       "Risk                                               \n",
       "bad   33.963333    3938.126667  24.860000  1.936667\n",
       "good  36.224286    2985.457143  19.207143  1.890000"
      ]
     },
     "execution_count": 8,
     "metadata": {},
     "output_type": "execute_result"
    }
   ],
   "source": [
    "pd.pivot_table(df, index = 'Risk', values = df_num)"
   ]
  },
  {
   "cell_type": "markdown",
   "id": "a8cc37a3",
   "metadata": {},
   "source": [
    "#### Observations"
   ]
  },
  {
   "cell_type": "markdown",
   "id": "84590f62",
   "metadata": {},
   "source": [
    "1. The average age of good applicants is higher than bad applicants\n",
    "2. The average credit amount of good applicants is less than bad applicants\n",
    "3. The average duration of good applicants is less than bad applicants\n",
    "4. The average number of jobs is nearly the same for good and bad applicants"
   ]
  },
  {
   "cell_type": "markdown",
   "id": "9e886be5",
   "metadata": {},
   "source": [
    "#### The distribution of applicants with good credit rate among categorical variables"
   ]
  },
  {
   "cell_type": "code",
   "execution_count": 9,
   "id": "80c4328e",
   "metadata": {},
   "outputs": [
    {
     "data": {
      "image/png": "[encoded data removed]",
      "text/plain": [
       "<Figure size 432x288 with 1 Axes>"
      ]
     },
     "metadata": {},
     "output_type": "display_data"
    },
    {
     "data": {
      "image/png": "[encoded data removed]",
      "text/plain": [
       "<Figure size 432x288 with 1 Axes>"
      ]
     },
     "metadata": {},
     "output_type": "display_data"
    },
    {
     "data": {
      "image/png": "[encoded data removed]",
      "text/plain": [
       "<Figure size 432x288 with 1 Axes>"
      ]
     },
     "metadata": {},
     "output_type": "display_data"
    },
    {
     "data": {
      "image/png": "[encoded data removed]",
      "text/plain": [
       "<Figure size 432x288 with 1 Axes>"
      ]
     },
     "metadata": {},
     "output_type": "display_data"
    },
    {
     "data": {
      "image/png": "[encoded data removed]",
      "text/plain": [
       "<Figure size 432x288 with 1 Axes>"
      ]
     },
     "metadata": {},
     "output_type": "display_data"
    }
   ],
   "source": [
    "for i in df_cat:\n",
    "    classLabel = df.loc[df.Risk == 'good'][i].value_counts(normalize=True).index\n",
    "    plt.pie(df.loc[df.Risk == 'good'][i].value_counts(normalize=True),\n",
    "            labels = classLabel, startangle=90, autopct='%.1f%%')\n",
    "    plt.title(i)\n",
    "    plt.show()"
   ]
  },
  {
   "cell_type": "markdown",
   "id": "06e58844",
   "metadata": {},
   "source": [
    "#### Observations"
   ]
  },
  {
   "cell_type": "markdown",
   "id": "7d6b50a1",
   "metadata": {},
   "source": [
    "Among the applicants with good risk\n",
    "\n",
    "1. In terms of Sex :\n",
    "   71% male, 29% female\n",
    "2. In terms of Housing :\n",
    "   75% own , 16% rent , 9% free\n",
    "3. In terms of Saving Accounts :\n",
    "   70% little\n",
    "4. In terms of Checking Account:\n",
    "   47% moderate\n",
    "5. In terms of Purpose :\n",
    "   33% car , 31% radio,TV"
   ]
  },
  {
   "cell_type": "code",
   "execution_count": 10,
   "id": "614e016d",
   "metadata": {},
   "outputs": [
    {
     "name": "stderr",
     "output_type": "stream",
     "text": [
      "C:\\Users\\User\\AppData\\Local\\Temp/ipykernel_4752/4285305128.py:8: UserWarning: Matplotlib is currently using module://matplotlib_inline.backend_inline, which is a non-GUI backend, so cannot show the figure.\n",
      "  fig.show()\n"
     ]
    },
    {
     "data": {
      "image/png": "[encoded data removed]",
      "text/plain": [
       "<Figure size 720x720 with 2 Axes>"
      ]
     },
     "metadata": {},
     "output_type": "display_data"
    }
   ],
   "source": [
    "fig, (ax1,ax2) = plt.subplots(1,2,figsize=(10,10))\n",
    "ser = df.loc[df.Sex == 'female'][\"Risk\"].value_counts(normalize = True)\n",
    "ax1.pie(ser,labels = ser.index, startangle=90, autopct='%.1f%%')\n",
    "ax1.set_title('Female')\n",
    "ser2 = df.loc[df.Sex == 'male'][\"Risk\"].value_counts(normalize = True)\n",
    "ax2.pie(ser2,labels = ser2.index, startangle=90, autopct='%.1f%%')\n",
    "ax2.set_title('Male')\n",
    "fig.show()"
   ]
  },
  {
   "cell_type": "code",
   "execution_count": 11,
   "id": "fcc92d5c",
   "metadata": {},
   "outputs": [
    {
     "name": "stderr",
     "output_type": "stream",
     "text": [
      "C:\\Users\\User\\AppData\\Local\\Temp/ipykernel_4752/3768126420.py:12: UserWarning: Matplotlib is currently using module://matplotlib_inline.backend_inline, which is a non-GUI backend, so cannot show the figure.\n",
      "  fig.show()\n"
     ]
    },
    {
     "data": {
      "image/png": "[encoded data removed]",
      "text/plain": [
       "<Figure size 1080x1080 with 3 Axes>"
      ]
     },
     "metadata": {},
     "output_type": "display_data"
    }
   ],
   "source": [
    "fig, (ax1,ax2,ax3) = plt.subplots(1,3,figsize=(15,15))\n",
    "ser = df.loc[df.Housing == 'own'][\"Risk\"].value_counts(normalize = True)\n",
    "ser2 = df.loc[df.Housing == 'rent'][\"Risk\"].value_counts(normalize = True)\n",
    "ser3 = df.loc[df.Housing == 'free'][\"Risk\"].value_counts(normalize = True)\n",
    "\n",
    "ax1.pie(ser,labels = ser.index, startangle=90, autopct='%.1f%%')\n",
    "ax1.set_title('Housing Status:Own')\n",
    "ax2.pie(ser2,labels = ser2.index, startangle=90, autopct='%.1f%%')\n",
    "ax2.set_title('Housing Status:rent')\n",
    "ax3.pie(ser3,labels = ser3.index, startangle=90, autopct='%.1f%%')\n",
    "ax3.set_title('Housing Status:free')\n",
    "fig.show()\n"
   ]
  },
  {
   "cell_type": "code",
   "execution_count": 12,
   "id": "dec89cf8",
   "metadata": {},
   "outputs": [
    {
     "name": "stderr",
     "output_type": "stream",
     "text": [
      "C:\\Users\\User\\AppData\\Local\\Temp/ipykernel_4752/1787777806.py:12: UserWarning: Matplotlib is currently using module://matplotlib_inline.backend_inline, which is a non-GUI backend, so cannot show the figure.\n",
      "  fig.show()\n"
     ]
    },
    {
     "data": {
      "image/png": "[encoded data removed]",
      "text/plain": [
       "<Figure size 1080x1080 with 3 Axes>"
      ]
     },
     "metadata": {},
     "output_type": "display_data"
    }
   ],
   "source": [
    "fig, (ax1,ax2,ax3) = plt.subplots(1,3,figsize=(15,15))\n",
    "ser = df.loc[df[\"Checking account\"] == 'little'][\"Risk\"].value_counts(normalize = True)\n",
    "ser2 = df.loc[df[\"Checking account\"] == 'moderate'][\"Risk\"].value_counts(normalize = True)\n",
    "ser3 = df.loc[df[\"Checking account\"] == 'rich'][\"Risk\"].value_counts(normalize = True)\n",
    "\n",
    "ax1.pie(ser,labels = ser.index, startangle=90, autopct='%.1f%%')\n",
    "ax1.set_title('Checking account:little')\n",
    "ax2.pie(ser2,labels = ser2.index, startangle=90, autopct='%.1f%%')\n",
    "ax2.set_title('Checking account:moderate')\n",
    "ax3.pie(ser3,labels = ser3.index, startangle=90, autopct='%.1f%%')\n",
    "ax3.set_title('Checking account:rich')\n",
    "fig.show()"
   ]
  },
  {
   "cell_type": "code",
   "execution_count": 13,
   "id": "c9df0148",
   "metadata": {},
   "outputs": [
    {
     "name": "stderr",
     "output_type": "stream",
     "text": [
      "C:\\Users\\User\\AppData\\Local\\Temp/ipykernel_4752/546589661.py:15: UserWarning: Matplotlib is currently using module://matplotlib_inline.backend_inline, which is a non-GUI backend, so cannot show the figure.\n",
      "  fig.show()\n"
     ]
    },
    {
     "data": {
      "image/png": "[encoded data removed]",
      "text/plain": [
       "<Figure size 1080x1080 with 4 Axes>"
      ]
     },
     "metadata": {},
     "output_type": "display_data"
    }
   ],
   "source": [
    "fig, (ax1,ax2,ax3,ax4) = plt.subplots(1,4,figsize=(15,15))\n",
    "ser = df.loc[df[\"Saving accounts\"] == 'little'][\"Risk\"].value_counts(normalize = True)\n",
    "ser2 = df.loc[df[\"Saving accounts\"] == 'moderate'][\"Risk\"].value_counts(normalize = True)\n",
    "ser3 = df.loc[df[\"Saving accounts\"] == 'rich'][\"Risk\"].value_counts(normalize = True)\n",
    "ser4 = df.loc[df[\"Saving accounts\"] == 'quite rich'][\"Risk\"].value_counts(normalize = True)\n",
    "\n",
    "ax1.pie(ser,labels = ser.index, startangle=90, autopct='%.1f%%')\n",
    "ax1.set_title('Checking account:little')\n",
    "ax2.pie(ser2,labels = ser2.index, startangle=90, autopct='%.1f%%')\n",
    "ax2.set_title('Checking account:moderate')\n",
    "ax3.pie(ser3,labels = ser3.index, startangle=90, autopct='%.1f%%')\n",
    "ax3.set_title('Checking account:rich')\n",
    "ax4.pie(ser4,labels = ser4.index, startangle=90, autopct='%.1f%%')\n",
    "ax4.set_title('Checking account:quite rich')\n",
    "fig.show()"
   ]
  },
  {
   "cell_type": "code",
   "execution_count": 14,
   "id": "804fb9b1",
   "metadata": {},
   "outputs": [
    {
     "name": "stdout",
     "output_type": "stream",
     "text": [
      "applicants with Purpose:  radio/TV\n",
      "22.14 % bad\n",
      "77.86 % good\n",
      "applicants with Purpose:  education\n",
      "38.98 % bad\n",
      "61.02 % good\n",
      "applicants with Purpose:  furniture/equipment\n",
      "32.04 % bad\n",
      "67.96 % good\n",
      "applicants with Purpose:  car\n",
      "31.45 % bad\n",
      "68.55 % good\n",
      "applicants with Purpose:  business\n",
      "35.05 % bad\n",
      "64.95 % good\n",
      "applicants with Purpose:  domestic appliances\n",
      "33.33 % bad\n",
      "66.67 % good\n",
      "applicants with Purpose:  repairs\n",
      "36.36 % bad\n",
      "63.64 % good\n",
      "applicants with Purpose:  vacation/others\n",
      "41.67 % bad\n",
      "58.33 % good\n"
     ]
    }
   ],
   "source": [
    "for i in df.Purpose.unique():\n",
    "        ser = df.loc[df[\"Purpose\"] == i][\"Risk\"].value_counts(normalize = True)\n",
    "        print('applicants with Purpose: ',i)\n",
    "        print(\"%.2f\" % (ser[1]*100),'% bad')\n",
    "        print(\"%.2f\" % (ser[0]*100),'% good')"
   ]
  },
  {
   "cell_type": "markdown",
   "id": "da246120",
   "metadata": {},
   "source": [
    "#### Observations"
   ]
  },
  {
   "cell_type": "markdown",
   "id": "262bd2f3",
   "metadata": {},
   "source": [
    "1. The percentage of male applicants who rated as good is higher than female ones\n",
    "2. Applicants with their own house rated as good 14% more than applicants on rent or free\n",
    "3. In terms of checking account rich has 17% more chance than moderate and moderate has 10% more chance than little\n",
    "4. The chance of getting good applicant in terms of saving accounts: little = 64% moderate = 67% rich = 87% quite rich = 82%\n",
    "5. The chance of getting good credit risk in terms of purpose is as follows:\n",
    "   radio/TV > car > furniture/equipment > domestic appliances > business > repairs > education > vacation"
   ]
  },
  {
   "cell_type": "markdown",
   "id": "b19300ae",
   "metadata": {},
   "source": [
    "#### Histogram of attributes"
   ]
  },
  {
   "cell_type": "code",
   "execution_count": 15,
   "id": "9e4759f9",
   "metadata": {},
   "outputs": [
    {
     "data": {
      "image/png": "[encoded data removed]",
      "text/plain": [
       "<Figure size 432x288 with 1 Axes>"
      ]
     },
     "metadata": {
      "needs_background": "light"
     },
     "output_type": "display_data"
    },
    {
     "data": {
      "image/png": "[encoded data removed]",
      "text/plain": [
       "<Figure size 432x288 with 1 Axes>"
      ]
     },
     "metadata": {
      "needs_background": "light"
     },
     "output_type": "display_data"
    },
    {
     "data": {
      "image/png": "[encoded data removed]",
      "text/plain": [
       "<Figure size 432x288 with 1 Axes>"
      ]
     },
     "metadata": {
      "needs_background": "light"
     },
     "output_type": "display_data"
    },
    {
     "data": {
      "image/png": "[encoded data removed]",
      "text/plain": [
       "<Figure size 432x288 with 1 Axes>"
      ]
     },
     "metadata": {
      "needs_background": "light"
     },
     "output_type": "display_data"
    }
   ],
   "source": [
    "good = df.loc[df['Risk'] == 'good']\n",
    "bad = df.loc[df['Risk'] == 'bad']\n",
    "for i in df_num:\n",
    "    good[i].hist(alpha = 0.5,label='good')\n",
    "    bad[i].hist(alpha = 0.5,label='bad')\n",
    "    plt.title(i)\n",
    "    plt.legend(['good','bad'])\n",
    "    plt.show()"
   ]
  },
  {
   "cell_type": "markdown",
   "id": "2cb72783",
   "metadata": {},
   "source": [
    "#### Observations"
   ]
  },
  {
   "cell_type": "markdown",
   "id": "92295a10",
   "metadata": {},
   "source": [
    "The chance of good credit risk is;\n",
    "1. higher for younger applicants\n",
    "2. nearly the same for people with different number of jobs\n",
    "3. decreases as the credit amount increases\n",
    "4. decreases as the credit duration increases"
   ]
  },
  {
   "cell_type": "code",
   "execution_count": 16,
   "id": "2440ab99",
   "metadata": {},
   "outputs": [
    {
     "name": "stdout",
     "output_type": "stream",
     "text": [
      "Sex   female  male\n",
      "Risk              \n",
      "bad      109   191\n",
      "good     201   499\n",
      "Housing  free  own  rent\n",
      "Risk                    \n",
      "bad        44  186    70\n",
      "good       64  527   109\n",
      "Saving accounts  little  moderate  quite rich  rich\n",
      "Risk                                               \n",
      "bad                 217        34          11     6\n",
      "good                386        69          52    42\n",
      "Checking account  little  moderate  rich\n",
      "Risk                                    \n",
      "bad                  135       105    14\n",
      "good                 139       164    49\n"
     ]
    }
   ],
   "source": [
    "for i in df_cat:\n",
    "    if(i != 'Purpose'):\n",
    "        print(pd.pivot_table(df, index = 'Risk',values= 'Purpose', columns = i,aggfunc = 'count'))"
   ]
  },
  {
   "cell_type": "markdown",
   "id": "7afa1835",
   "metadata": {},
   "source": [
    "#### Correlations"
   ]
  },
  {
   "cell_type": "code",
   "execution_count": 17,
   "id": "dc4d4514",
   "metadata": {},
   "outputs": [
    {
     "name": "stdout",
     "output_type": "stream",
     "text": [
      "                    Age       Job  Credit amount  Duration\n",
      "Age            1.000000  0.015673       0.032716 -0.036136\n",
      "Job            0.015673  1.000000       0.285385  0.210910\n",
      "Credit amount  0.032716  0.285385       1.000000  0.624984\n",
      "Duration      -0.036136  0.210910       0.624984  1.000000\n"
     ]
    },
    {
     "data": {
      "text/plain": [
       "<AxesSubplot:>"
      ]
     },
     "execution_count": 17,
     "metadata": {},
     "output_type": "execute_result"
    },
    {
     "data": {
      "image/png": "[encoded data removed]",
      "text/plain": [
       "<Figure size 432x288 with 2 Axes>"
      ]
     },
     "metadata": {
      "needs_background": "light"
     },
     "output_type": "display_data"
    }
   ],
   "source": [
    "print(df_num.corr())\n",
    "sns.heatmap(df_num.corr())"
   ]
  },
  {
   "cell_type": "markdown",
   "id": "eaf6763e",
   "metadata": {},
   "source": [
    "#### Observation"
   ]
  },
  {
   "cell_type": "markdown",
   "id": "76b0acc2",
   "metadata": {},
   "source": [
    "Credit amount and duration is highly corelated"
   ]
  },
  {
   "cell_type": "markdown",
   "id": "9e4c9fcd",
   "metadata": {},
   "source": [
    "### Prepare the Data"
   ]
  },
  {
   "cell_type": "markdown",
   "id": "6bb3dd9a",
   "metadata": {},
   "source": [
    "#### Missing Values"
   ]
  },
  {
   "cell_type": "markdown",
   "id": "2be8c5f7",
   "metadata": {},
   "source": [
    "1. As we observed before we have null values in just 2 categories which are Saving Account and Checking account. This values may    indicate that these person doesnt have saving or checking account or they may be just a missing value.\n",
    "2. Therefore i wanted to treat the missing values as another categorical value."
   ]
  },
  {
   "cell_type": "code",
   "execution_count": 18,
   "id": "009c2eaa",
   "metadata": {},
   "outputs": [
    {
     "data": {
      "text/plain": [
       "Checking account    394\n",
       "Saving accounts     183\n",
       "Unnamed: 0            0\n",
       "Age                   0\n",
       "Sex                   0\n",
       "Job                   0\n",
       "Housing               0\n",
       "Credit amount         0\n",
       "Duration              0\n",
       "Purpose               0\n",
       "Risk                  0\n",
       "dtype: int64"
      ]
     },
     "execution_count": 18,
     "metadata": {},
     "output_type": "execute_result"
    }
   ],
   "source": [
    "dataset.isnull().sum().sort_values(ascending=False)"
   ]
  },
  {
   "cell_type": "code",
   "execution_count": 19,
   "id": "196dc2fc",
   "metadata": {},
   "outputs": [],
   "source": [
    "dataset['Checking account'].fillna(\"No Info\", inplace = True) \n",
    "dataset['Saving accounts'].fillna(\"No Info\", inplace = True) "
   ]
  },
  {
   "cell_type": "markdown",
   "id": "d69b9484",
   "metadata": {},
   "source": [
    "Splitting train and test data I wanted to keep the ratio of good and bad risk applicant same in both train and test data To do so i decided to use stratified shuffle split."
   ]
  },
  {
   "cell_type": "markdown",
   "id": "c4f8ca0d",
   "metadata": {},
   "source": [
    "#### Split data into training and test set"
   ]
  },
  {
   "cell_type": "markdown",
   "id": "6fa1ee07",
   "metadata": {},
   "source": [
    "1. I wanted to keep the ratio of good and bad applicants same for both sets\n",
    "2. Therefore i made stratified train test split"
   ]
  },
  {
   "cell_type": "code",
   "execution_count": 20,
   "id": "eb48ef32",
   "metadata": {},
   "outputs": [
    {
     "data": {
      "text/plain": [
       "good    700\n",
       "bad     300\n",
       "Name: Risk, dtype: int64"
      ]
     },
     "execution_count": 20,
     "metadata": {},
     "output_type": "execute_result"
    }
   ],
   "source": [
    "# The ratio of good and bad applicants\n",
    "dataset['Risk'].value_counts()"
   ]
  },
  {
   "cell_type": "code",
   "execution_count": 21,
   "id": "0ee0af85",
   "metadata": {},
   "outputs": [],
   "source": [
    "# set dependent and independent values\n",
    "y = dataset['Risk']\n",
    "X = dataset.drop('Risk',axis = 1)"
   ]
  },
  {
   "cell_type": "code",
   "execution_count": 22,
   "id": "03580b64",
   "metadata": {},
   "outputs": [],
   "source": [
    "# Split train and test sets\n",
    "from sklearn.model_selection import train_test_split\n",
    "X_train, X_test, y_train, y_test = train_test_split(X, y, test_size=0.2, random_state=42, stratify=y)"
   ]
  },
  {
   "cell_type": "code",
   "execution_count": 23,
   "id": "afbdeac2",
   "metadata": {},
   "outputs": [
    {
     "data": {
      "text/plain": [
       "good    560\n",
       "bad     240\n",
       "Name: Risk, dtype: int64"
      ]
     },
     "execution_count": 23,
     "metadata": {},
     "output_type": "execute_result"
    }
   ],
   "source": [
    "y_train.value_counts()"
   ]
  },
  {
   "cell_type": "markdown",
   "id": "29de8500",
   "metadata": {},
   "source": [
    "The ratio of good and bad applicants is the same for both sets"
   ]
  },
  {
   "cell_type": "markdown",
   "id": "05d75e1f",
   "metadata": {},
   "source": [
    "#### Feature Scaling and Pipeline Formation"
   ]
  },
  {
   "cell_type": "code",
   "execution_count": 24,
   "id": "93c2c21f",
   "metadata": {},
   "outputs": [],
   "source": [
    "from sklearn.pipeline import Pipeline\n",
    "from sklearn.preprocessing import StandardScaler\n",
    "from sklearn.compose import ColumnTransformer\n",
    "from sklearn.preprocessing import OneHotEncoder\n",
    "\n",
    "num_attribs = ['Age','Job','Credit amount','Duration']\n",
    "cat_attribs = ['Sex','Housing','Saving accounts','Checking account','Purpose']\n",
    "\n",
    "num_pipeline = Pipeline([\n",
    "        ('std_scaler', StandardScaler())\n",
    "    ])\n",
    "cat_pipeline = Pipeline([\n",
    "        (\"encoding\", OneHotEncoder())\n",
    "    ])\n",
    "full_pipeline = ColumnTransformer([\n",
    "        (\"num\", num_pipeline, num_attribs),\n",
    "        (\"cat\", cat_pipeline, cat_attribs)\n",
    "    ])"
   ]
  },
  {
   "cell_type": "code",
   "execution_count": 25,
   "id": "a40b3ba2",
   "metadata": {},
   "outputs": [],
   "source": [
    "X_train = full_pipeline.fit_transform(X_train)\n",
    "X_test = full_pipeline.transform(X_test)"
   ]
  },
  {
   "cell_type": "code",
   "execution_count": 26,
   "id": "a2d9cdec",
   "metadata": {},
   "outputs": [],
   "source": [
    "from sklearn.preprocessing import LabelEncoder\n",
    "le = LabelEncoder()\n",
    "y_train = le.fit_transform(y_train)\n",
    "y_test = le.transform(y_test)"
   ]
  },
  {
   "cell_type": "markdown",
   "id": "f0c1e630",
   "metadata": {},
   "source": [
    "### Model Selection"
   ]
  },
  {
   "cell_type": "code",
   "execution_count": 27,
   "id": "332058f8",
   "metadata": {},
   "outputs": [],
   "source": [
    "from sklearn.metrics import confusion_matrix, accuracy_score\n",
    "from sklearn.linear_model import LogisticRegression\n",
    "from sklearn.neighbors import KNeighborsClassifier\n",
    "from sklearn.tree import DecisionTreeClassifier\n",
    "from sklearn.ensemble import RandomForestClassifier\n",
    "from sklearn.model_selection import cross_val_score\n",
    "from sklearn.model_selection import cross_val_predict"
   ]
  },
  {
   "cell_type": "markdown",
   "id": "48e521f2",
   "metadata": {},
   "source": [
    "#### Logistic Regression"
   ]
  },
  {
   "cell_type": "code",
   "execution_count": 28,
   "id": "451c983f",
   "metadata": {},
   "outputs": [
    {
     "name": "stdout",
     "output_type": "stream",
     "text": [
      "Accuracy score: 0.73125\n",
      "Confusion Matrix\n",
      "[[ 88 152]\n",
      " [ 63 497]]\n"
     ]
    }
   ],
   "source": [
    "lr = LogisticRegression(random_state = 42)\n",
    "y_pred_lr = cross_val_predict(lr,X_train,y_train,cv = 5)\n",
    "print('Accuracy score:',accuracy_score(y_train, y_pred_lr))\n",
    "print('Confusion Matrix')\n",
    "print(confusion_matrix(y_train, y_pred_lr))"
   ]
  },
  {
   "cell_type": "markdown",
   "id": "3e8ae1cd",
   "metadata": {},
   "source": [
    "#### K-Nearest Neighbors"
   ]
  },
  {
   "cell_type": "code",
   "execution_count": 29,
   "id": "3cb54f27",
   "metadata": {},
   "outputs": [
    {
     "name": "stdout",
     "output_type": "stream",
     "text": [
      "Accuracy score: 0.7025\n",
      "Confusion Matrix\n",
      "[[ 81 159]\n",
      " [ 79 481]]\n"
     ]
    }
   ],
   "source": [
    "knn = KNeighborsClassifier(n_neighbors = 5)\n",
    "y_pred_knn = cross_val_predict(knn,X_train,y_train,cv = 5)\n",
    "print('Accuracy score:',accuracy_score(y_train, y_pred_knn))\n",
    "print('Confusion Matrix')\n",
    "print(confusion_matrix(y_train, y_pred_knn))"
   ]
  },
  {
   "cell_type": "markdown",
   "id": "be271d00",
   "metadata": {},
   "source": [
    "#### Decision Tree Classification"
   ]
  },
  {
   "cell_type": "code",
   "execution_count": 30,
   "id": "be7fd5fa",
   "metadata": {},
   "outputs": [
    {
     "name": "stdout",
     "output_type": "stream",
     "text": [
      "Accuracy score: 0.71375\n",
      "Confusion Matrix\n",
      "[[ 76 164]\n",
      " [ 65 495]]\n"
     ]
    }
   ],
   "source": [
    "dt = DecisionTreeClassifier(max_depth = 5,random_state = 42)\n",
    "y_pred_dt = cross_val_predict(dt,X_train,y_train,cv = 5)\n",
    "print('Accuracy score:',accuracy_score(y_train, y_pred_dt))\n",
    "print('Confusion Matrix')\n",
    "print(confusion_matrix(y_train, y_pred_dt))"
   ]
  },
  {
   "cell_type": "markdown",
   "id": "df4a8047",
   "metadata": {},
   "source": [
    "####  Random Forest"
   ]
  },
  {
   "cell_type": "code",
   "execution_count": 31,
   "id": "698f02fc",
   "metadata": {},
   "outputs": [
    {
     "name": "stdout",
     "output_type": "stream",
     "text": [
      "Accuracy score: 0.70375\n",
      "Confusion Matrix\n",
      "[[114 126]\n",
      " [111 449]]\n"
     ]
    }
   ],
   "source": [
    "rf = RandomForestClassifier(n_estimators = 10, random_state = 42)\n",
    "y_pred_rf = cross_val_predict(rf,X_train,y_train,cv = 5)\n",
    "print('Accuracy score:',accuracy_score(y_train, y_pred_rf))\n",
    "print('Confusion Matrix')\n",
    "print(confusion_matrix(y_train, y_pred_rf))"
   ]
  },
  {
   "cell_type": "markdown",
   "id": "6340a49f",
   "metadata": {},
   "source": [
    "### Conclusion"
   ]
  },
  {
   "cell_type": "markdown",
   "id": "c2b76293",
   "metadata": {},
   "source": [
    "Logistic Regression has the highest accuracy score, followed by Decision Tree Classifier.\n",
    "Therefore, Logistic Regression yields the best result."
   ]
  },
  {
   "cell_type": "code",
   "execution_count": null,
   "id": "026dea94",
   "metadata": {},
   "outputs": [],
   "source": []
  }
 ],
 "metadata": {
  "kernelspec": {
   "display_name": "Python 3 (ipykernel)",
   "language": "python",
   "name": "python3"
  },
  "language_info": {
   "codemirror_mode": {
    "name": "ipython",
    "version": 3
   },
   "file_extension": ".py",
   "mimetype": "text/x-python",
   "name": "python",
   "nbconvert_exporter": "python",
   "pygments_lexer": "ipython3",
   "version": "3.9.7"
  }
 },
 "nbformat": 4,
 "nbformat_minor": 5
}
